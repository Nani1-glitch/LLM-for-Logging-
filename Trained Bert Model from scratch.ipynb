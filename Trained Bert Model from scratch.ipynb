{
 "cells": [
  {
   "cell_type": "markdown",
   "id": "d4c017f1-1954-4cb7-92c2-a4875a754a4d",
   "metadata": {},
   "source": [
    "# Importing the data and preprocessing it"
   ]
  },
  {
   "cell_type": "code",
   "execution_count": 1,
   "id": "71e199ac-d44a-4bb5-8d2b-a8611a534089",
   "metadata": {},
   "outputs": [
    {
     "name": "stdout",
     "output_type": "stream",
     "text": [
      "label\n",
      "0    68\n",
      "1    68\n",
      "Name: count, dtype: int64\n"
     ]
    }
   ],
   "source": [
    "import pandas as pd\n",
    "import re\n",
    "import torch\n",
    "from torch.utils.data import DataLoader, Dataset\n",
    "from transformers import BertTokenizer, BertForSequenceClassification, AdamW, get_linear_schedule_with_warmup\n",
    "from sklearn.metrics import accuracy_score, precision_score, recall_score, f1_score\n",
    "from torch.nn.utils.rnn import pad_sequence\n",
    "from sklearn.utils import resample\n",
    "\n",
    "# Load the log file\n",
    "log_file_path = 'cisco_log.txt'\n",
    "\n",
    "# Define a function to parse the log entries\n",
    "def parse_log(log_content):\n",
    "    log_entries = []\n",
    "    log_pattern = re.compile(r'(?P<date>\\w+ +\\d+ \\d+:\\d+:\\d+).+:(?P<message>.+)')\n",
    "    for line in log_content.split('\\n'):\n",
    "        if line.strip():\n",
    "            match = log_pattern.match(line)\n",
    "            if match:\n",
    "                log_entries.append(match.groupdict())\n",
    "            else:\n",
    "                log_entries.append({'date': None, 'message': line.strip()})\n",
    "    return log_entries\n",
    "\n",
    "# Read and parse the log file\n",
    "with open(log_file_path, 'r') as file:\n",
    "    log_content = file.read()\n",
    "    log_entries = parse_log(log_content)\n",
    "\n",
    "# Convert to a DataFrame\n",
    "df_logs = pd.DataFrame(log_entries)\n",
    "\n",
    "# Labeling logic\n",
    "error_keywords = ['deny', 'fail', 'error', 'denied']\n",
    "df_logs['label'] = df_logs['message'].apply(lambda x: 1 if any(kw in x.lower() for kw in error_keywords) else 0)\n",
    "\n",
    "# Separate majority and minority classes\n",
    "df_majority = df_logs[df_logs.label == 0]\n",
    "df_minority = df_logs[df_logs.label == 1]\n",
    "\n",
    "# Upsample minority class if it exists\n",
    "if not df_minority.empty:\n",
    "    df_minority_upsampled = resample(df_minority, \n",
    "                                     replace=True,    \n",
    "                                     n_samples=len(df_majority),  \n",
    "                                     random_state=42)\n",
    "\n",
    "    df_upsampled = pd.concat([df_majority, df_minority_upsampled])\n",
    "else:\n",
    "    df_upsampled = df_logs  \n",
    "\n",
    "# Display new class counts\n",
    "print(df_upsampled['label'].value_counts())\n"
   ]
  },
  {
   "cell_type": "markdown",
   "id": "012aee75-8b68-43f6-8c54-32b33ba402df",
   "metadata": {},
   "source": [
    "# Tokenizing"
   ]
  },
  {
   "cell_type": "code",
   "execution_count": 3,
   "id": "6c4f50d1-9b4a-4c1c-a8f8-1a6c7b81077f",
   "metadata": {},
   "outputs": [],
   "source": [
    "# Initialize the tokenizer\n",
    "tokenizer = BertTokenizer.from_pretrained('bert-base-uncased')\n",
    "\n",
    "# Tokenize the log messages\n",
    "df_upsampled['tokens'] = df_upsampled['message'].apply(lambda x: tokenizer.encode(x, add_special_tokens=True))\n"
   ]
  },
  {
   "cell_type": "markdown",
   "id": "3a822d2f-5d32-4a40-b135-086d67d1efaf",
   "metadata": {},
   "source": [
    "# Dataset and Dataloader"
   ]
  },
  {
   "cell_type": "code",
   "execution_count": 4,
   "id": "de8009f9-d064-4672-b0bc-8bb89e1ba22c",
   "metadata": {},
   "outputs": [],
   "source": [
    "class LogDataset(Dataset):\n",
    "    def __init__(self, df):\n",
    "        self.df = df\n",
    "\n",
    "    def __len__(self):\n",
    "        return len(self.df)\n",
    "\n",
    "    def __getitem__(self, idx):\n",
    "        return torch.tensor(self.df['tokens'].iloc[idx]), torch.tensor(self.df['label'].iloc[idx])\n",
    "\n",
    "def collate_fn(batch):\n",
    "    inputs, labels = zip(*batch)\n",
    "    inputs_padded = pad_sequence(inputs, batch_first=True, padding_value=0)\n",
    "    labels = torch.stack(labels)\n",
    "    return inputs_padded, labels\n",
    "\n",
    "# Create dataset and dataloader\n",
    "dataset = LogDataset(df_upsampled)\n",
    "dataloader = DataLoader(dataset, batch_size=16, shuffle=True, collate_fn=collate_fn)\n"
   ]
  },
  {
   "cell_type": "markdown",
   "id": "cda25e05-f83d-4b6a-bec4-a750757ee3ff",
   "metadata": {},
   "source": [
    "# Model Initialization and Training"
   ]
  },
  {
   "cell_type": "code",
   "execution_count": 5,
   "id": "3ece303f-b530-4469-92ed-f814b2eca037",
   "metadata": {},
   "outputs": [
    {
     "name": "stderr",
     "output_type": "stream",
     "text": [
      "Some weights of BertForSequenceClassification were not initialized from the model checkpoint at bert-base-uncased and are newly initialized: ['classifier.bias', 'classifier.weight']\n",
      "You should probably TRAIN this model on a down-stream task to be able to use it for predictions and inference.\n",
      "/Users/nithinrajulapati/anaconda3/lib/python3.11/site-packages/transformers/optimization.py:411: FutureWarning: This implementation of AdamW is deprecated and will be removed in a future version. Use the PyTorch implementation torch.optim.AdamW instead, or set `no_deprecation_warning=True` to disable this warning\n",
      "  warnings.warn(\n",
      "We strongly recommend passing in an `attention_mask` since your input_ids may be padded. See https://huggingface.co/docs/transformers/troubleshooting#incorrect-output-when-padding-tokens-arent-masked.\n"
     ]
    },
    {
     "name": "stdout",
     "output_type": "stream",
     "text": [
      "Epoch 1 completed\n",
      "Epoch 2 completed\n",
      "Epoch 3 completed\n"
     ]
    }
   ],
   "source": [
    "# Initialize the model\n",
    "model = BertForSequenceClassification.from_pretrained('bert-base-uncased')\n",
    "\n",
    "# Optimizer and learning rate scheduler\n",
    "optimizer = AdamW(model.parameters(), lr=2e-5)\n",
    "scheduler = get_linear_schedule_with_warmup(optimizer, num_warmup_steps=0, num_training_steps=len(dataloader) * 3)\n",
    "\n",
    "# Training loop\n",
    "model.train()\n",
    "for epoch in range(3):  # Example: 3 epochs\n",
    "    for batch in dataloader:\n",
    "        inputs, labels = batch\n",
    "        optimizer.zero_grad()\n",
    "        outputs = model(inputs, labels=labels)\n",
    "        loss = outputs.loss\n",
    "        loss.backward()\n",
    "        optimizer.step()\n",
    "        scheduler.step()\n",
    "    print(f\"Epoch {epoch + 1} completed\")\n"
   ]
  },
  {
   "cell_type": "markdown",
   "id": "6e2a2391-759f-422d-997a-5b28741691cc",
   "metadata": {},
   "source": [
    "# Model Evaluation"
   ]
  },
  {
   "cell_type": "code",
   "execution_count": 6,
   "id": "72750a89-be32-4503-b8c6-2a40df2deb28",
   "metadata": {},
   "outputs": [
    {
     "name": "stdout",
     "output_type": "stream",
     "text": [
      "Accuracy: 0.6397058823529411\n",
      "Precision: 0.6301369863013698\n",
      "Recall: 0.6764705882352942\n",
      "F1 Score: 0.652482269503546\n"
     ]
    }
   ],
   "source": [
    "# Assuming a separate validation set is available\n",
    "validation_dataset = LogDataset(df_upsampled)\n",
    "validation_loader = DataLoader(validation_dataset, batch_size=16, shuffle=False, collate_fn=collate_fn)\n",
    "\n",
    "model.eval()\n",
    "preds = []\n",
    "true_labels = []\n",
    "with torch.no_grad():\n",
    "    for batch in validation_loader:\n",
    "        inputs, labels = batch\n",
    "        outputs = model(inputs)\n",
    "        preds.extend(torch.argmax(outputs.logits, dim=1).tolist())\n",
    "        true_labels.extend(labels.tolist())\n",
    "\n",
    "accuracy = accuracy_score(true_labels, preds)\n",
    "precision = precision_score(true_labels, preds, zero_division=1)\n",
    "recall = recall_score(true_labels, preds, zero_division=1)\n",
    "f1 = f1_score(true_labels, preds, zero_division=1)\n",
    "\n",
    "print(f\"Accuracy: {accuracy}\")\n",
    "print(f\"Precision: {precision}\")\n",
    "print(f\"Recall: {recall}\")\n",
    "print(f\"F1 Score: {f1}\")\n"
   ]
  },
  {
   "cell_type": "code",
   "execution_count": 7,
   "id": "c012a43f-c20f-4382-806d-a058d17daefe",
   "metadata": {},
   "outputs": [
    {
     "data": {
      "text/plain": [
       "('trained_model_from_SCRATCH/tokenizer_config.json',\n",
       " 'trained_model_from_SCRATCH/special_tokens_map.json',\n",
       " 'trained_model_from_SCRATCH/vocab.txt',\n",
       " 'trained_model_from_SCRATCH/added_tokens.json')"
      ]
     },
     "execution_count": 7,
     "metadata": {},
     "output_type": "execute_result"
    }
   ],
   "source": [
    "model_save_path = 'trained_model_from_SCRATCH'\n",
    "model.save_pretrained(model_save_path)\n",
    "tokenizer.save_pretrained(model_save_path)\n"
   ]
  },
  {
   "cell_type": "code",
   "execution_count": null,
   "id": "1860372e-d48e-4ecc-a559-d08009257f18",
   "metadata": {},
   "outputs": [],
   "source": []
  }
 ],
 "metadata": {
  "kernelspec": {
   "display_name": "Python 3 (ipykernel)",
   "language": "python",
   "name": "python3"
  },
  "language_info": {
   "codemirror_mode": {
    "name": "ipython",
    "version": 3
   },
   "file_extension": ".py",
   "mimetype": "text/x-python",
   "name": "python",
   "nbconvert_exporter": "python",
   "pygments_lexer": "ipython3",
   "version": "3.11.5"
  }
 },
 "nbformat": 4,
 "nbformat_minor": 5
}
